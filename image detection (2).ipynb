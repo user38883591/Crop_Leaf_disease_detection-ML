{
 "cells": [
  {
   "cell_type": "code",
   "execution_count": null,
   "id": "a00cb6c8",
   "metadata": {},
   "outputs": [],
   "source": [
    "pip install torch torchvision torchaudio matplotlib seaborn scikit-learn Pillow numpy\n"
   ]
  },
  {
   "cell_type": "code",
   "execution_count": 12,
   "id": "903b1248",
   "metadata": {},
   "outputs": [],
   "source": [
    "import os\n",
    "import torch\n",
    "import torch.nn as nn\n",
    "import torch.optim as optim\n",
    "import torch.nn.functional as F\n",
    "from torch.utils.data import DataLoader, Dataset\n",
    "from torchvision import datasets, models, transforms\n",
    "from sklearn.metrics import accuracy_score, classification_report, confusion_matrix\n",
    "import numpy as np\n",
    "import matplotlib.pyplot as plt\n",
    "import seaborn as sns\n"
   ]
  },
  {
   "cell_type": "code",
   "execution_count": 38,
   "id": "24009bbf",
   "metadata": {},
   "outputs": [
    {
     "name": "stdout",
     "output_type": "stream",
     "text": [
      "['Train', 'Val']\n"
     ]
    }
   ],
   "source": [
    "import os\n",
    "data_dir = 'C:/Users/colloh/Desktop/Data/leaf_data'\n",
    "print(os.listdir(data_dir))\n"
   ]
  },
  {
   "cell_type": "code",
   "execution_count": 46,
   "id": "d9914d4c",
   "metadata": {},
   "outputs": [],
   "source": [
    "from torchvision import transforms\n",
    "\n",
    "data_transforms = {\n",
    "    'train': transforms.Compose([\n",
    "        transforms.RandomHorizontalFlip(),       # Random horizontal flipping\n",
    "        transforms.RandomRotation(20),           # Random rotation within 20 degrees\n",
    "        transforms.RandomResizedCrop(224),       # Randomly resize and crop the image\n",
    "        transforms.ToTensor(),\n",
    "        transforms.Normalize(mean=[0.485, 0.456, 0.406], std=[0.229, 0.224, 0.225])\n",
    "    ]),\n",
    "    'val': transforms.Compose([\n",
    "        transforms.Resize(256),\n",
    "        transforms.CenterCrop(224),\n",
    "        transforms.ToTensor(),\n",
    "        transforms.Normalize(mean=[0.485, 0.456, 0.406], std=[0.229, 0.224, 0.225])\n",
    "    ]),\n",
    "}\n"
   ]
  },
  {
   "cell_type": "code",
   "execution_count": 40,
   "id": "59af6330",
   "metadata": {},
   "outputs": [],
   "source": [
    "from torchvision import models\n",
    "\n",
    "# Load a pre-trained ResNet model\n",
    "model = models.resnet50(pretrained=True)\n",
    "\n",
    "# Freeze the layers to avoid updating them during training\n",
    "for param in model.parameters():\n",
    "    param.requires_grad = False\n",
    "\n",
    "# Replace the final layer to match the number of classes in your dataset\n",
    "num_classes = 2  # Update based on your number of classes\n",
    "model.fc = torch.nn.Linear(model.fc.in_features, num_classes)\n",
    "\n",
    "# Now, only the final layer's parameters will be updated during training\n"
   ]
  },
  {
   "cell_type": "code",
   "execution_count": 47,
   "id": "3972c25f",
   "metadata": {},
   "outputs": [],
   "source": [
    "optimizer = torch.optim.Adam(model.parameters(), lr=0.0001)\n"
   ]
  },
  {
   "cell_type": "code",
   "execution_count": 48,
   "id": "543c7a2b",
   "metadata": {},
   "outputs": [],
   "source": [
    "from torch.optim import lr_scheduler\n",
    "scheduler = lr_scheduler.StepLR(optimizer, step_size=7, gamma=0.1)  # Reduce LR by 0.1 every 7 epochs\n"
   ]
  },
  {
   "cell_type": "code",
   "execution_count": 49,
   "id": "ec05b57a",
   "metadata": {},
   "outputs": [],
   "source": [
    "# Unfreeze the last few layers\n",
    "for param in model.layer4.parameters():\n",
    "    param.requires_grad = True\n"
   ]
  },
  {
   "cell_type": "code",
   "execution_count": 51,
   "id": "154f6268",
   "metadata": {},
   "outputs": [],
   "source": [
    "import torch.nn as nn\n",
    "\n",
    "# Check if the last layer in model.fc is Linear and get its in_features\n",
    "if isinstance(model.fc[-1], nn.Linear):\n",
    "    in_features = model.fc[-1].in_features\n",
    "else:\n",
    "    in_features = model.fc[0].in_features  # Adjust depending on your model's structure\n",
    "\n",
    "# Add dropout and a new fully connected layer\n",
    "model.fc = nn.Sequential(\n",
    "    nn.Dropout(0.5),\n",
    "    nn.Linear(in_features, num_classes)\n",
    ")\n"
   ]
  },
  {
   "cell_type": "code",
   "execution_count": 52,
   "id": "8c08f074",
   "metadata": {},
   "outputs": [],
   "source": [
    "optimizer = torch.optim.Adam(model.parameters(), lr=0.0001, weight_decay=1e-5)\n"
   ]
  },
  {
   "cell_type": "code",
   "execution_count": null,
   "id": "ee1e4104",
   "metadata": {},
   "outputs": [],
   "source": []
  },
  {
   "cell_type": "code",
   "execution_count": null,
   "id": "ce845181",
   "metadata": {},
   "outputs": [],
   "source": []
  },
  {
   "cell_type": "code",
   "execution_count": 54,
   "id": "26b04803",
   "metadata": {},
   "outputs": [
    {
     "name": "stdout",
     "output_type": "stream",
     "text": [
      "Classes: ['Bacterial leaf blight', 'Blight', 'Brown spot', 'Gray_Leaf_Spot', 'Healthy', 'Leaf smut', 'Miner', 'Phoma', 'Rust']\n"
     ]
    }
   ],
   "source": [
    "# Define transformations for the training and test sets\n",
    "data_transforms = {\n",
    "    'train': transforms.Compose([\n",
    "        transforms.Resize((224, 224)),\n",
    "        transforms.RandomHorizontalFlip(),\n",
    "        transforms.ToTensor(),\n",
    "        transforms.Normalize([0.485, 0.456, 0.406], [0.229, 0.224, 0.225])\n",
    "    ]),\n",
    "    'val': transforms.Compose([\n",
    "        transforms.Resize((224, 224)),\n",
    "        transforms.ToTensor(),\n",
    "        transforms.Normalize([0.485, 0.456, 0.406], [0.229, 0.224, 0.225])\n",
    "    ])\n",
    "}\n",
    "\n",
    "# Define dataset directories\n",
    "data_dir = 'C:/Users/colloh/Desktop/Data/leaf_data'\n",
    "\n",
    "# Load the dataset\n",
    "image_datasets = {\n",
    "    'train': datasets.ImageFolder(os.path.join(data_dir, 'Train'), data_transforms['train']),\n",
    "    'val': datasets.ImageFolder(os.path.join(data_dir, 'Val'), data_transforms['val'])\n",
    "}\n",
    "\n",
    "# Create DataLoaders\n",
    "dataloaders = {\n",
    "    'train': DataLoader(image_datasets['train'], batch_size=32, shuffle=True),\n",
    "    'val': DataLoader(image_datasets['val'], batch_size=32, shuffle=False)\n",
    "}\n",
    "\n",
    "# Get class names\n",
    "class_names = image_datasets['train'].classes\n",
    "print(f\"Classes: {class_names}\")\n"
   ]
  },
  {
   "cell_type": "code",
   "execution_count": 55,
   "id": "65711b14",
   "metadata": {},
   "outputs": [],
   "source": [
    "class CNNModel(nn.Module):\n",
    "    def __init__(self, num_classes):\n",
    "        super(CNNModel, self).__init__()\n",
    "        self.conv1 = nn.Conv2d(3, 32, kernel_size=3, stride=1, padding=1)\n",
    "        self.conv2 = nn.Conv2d(32, 64, kernel_size=3, stride=1, padding=1)\n",
    "        self.pool = nn.MaxPool2d(kernel_size=2, stride=2, padding=0)\n",
    "        self.fc1 = nn.Linear(64 * 56 * 56, 512)\n",
    "        self.fc2 = nn.Linear(512, num_classes)\n",
    "        self.dropout = nn.Dropout(0.5)\n",
    "    \n",
    "    def forward(self, x):\n",
    "        x = self.pool(F.relu(self.conv1(x)))\n",
    "        x = self.pool(F.relu(self.conv2(x)))\n",
    "        x = x.view(-1, 64 * 56 * 56)  # Flatten the tensor\n",
    "        x = F.relu(self.fc1(x))\n",
    "        x = self.dropout(x)\n",
    "        x = self.fc2(x)\n",
    "        return x\n",
    "\n",
    "# Initialize the model\n",
    "model = CNNModel(num_classes=len(class_names))\n",
    "\n",
    "# Check if GPU is available and move the model to GPU if available\n",
    "device = torch.device(\"cuda:0\" if torch.cuda.is_available() else \"cpu\")\n",
    "model = model.to(device)\n"
   ]
  },
  {
   "cell_type": "code",
   "execution_count": 56,
   "id": "7ca33ff0",
   "metadata": {},
   "outputs": [],
   "source": [
    "# Define loss function and optimizer\n",
    "criterion = nn.CrossEntropyLoss()\n",
    "optimizer = optim.Adam(model.parameters(), lr=0.001)\n"
   ]
  },
  {
   "cell_type": "code",
   "execution_count": 57,
   "id": "78efb484",
   "metadata": {},
   "outputs": [
    {
     "name": "stdout",
     "output_type": "stream",
     "text": [
      "Epoch 1/10\n",
      "----------\n",
      "train Loss: 1.2064 Acc: 0.6829\n",
      "val Loss: 1.4601 Acc: 0.4361\n",
      "Epoch 2/10\n",
      "----------\n",
      "train Loss: 0.5530 Acc: 0.7854\n",
      "val Loss: 0.8308 Acc: 0.7256\n",
      "Epoch 3/10\n",
      "----------\n",
      "train Loss: 0.4393 Acc: 0.8309\n",
      "val Loss: 0.6857 Acc: 0.7782\n",
      "Epoch 4/10\n",
      "----------\n",
      "train Loss: 0.3301 Acc: 0.8764\n",
      "val Loss: 0.5348 Acc: 0.8008\n",
      "Epoch 5/10\n",
      "----------\n",
      "train Loss: 0.2447 Acc: 0.9117\n",
      "val Loss: 0.4544 Acc: 0.8609\n",
      "Epoch 6/10\n",
      "----------\n",
      "train Loss: 0.1833 Acc: 0.9367\n",
      "val Loss: 1.3621 Acc: 0.7895\n",
      "Epoch 7/10\n",
      "----------\n",
      "train Loss: 0.1543 Acc: 0.9474\n",
      "val Loss: 0.4936 Acc: 0.8496\n",
      "Epoch 8/10\n",
      "----------\n",
      "train Loss: 0.1446 Acc: 0.9508\n",
      "val Loss: 0.1786 Acc: 0.9361\n",
      "Epoch 9/10\n",
      "----------\n",
      "train Loss: 0.1115 Acc: 0.9650\n",
      "val Loss: 0.1791 Acc: 0.9474\n",
      "Epoch 10/10\n",
      "----------\n",
      "train Loss: 0.0924 Acc: 0.9728\n",
      "val Loss: 0.1125 Acc: 0.9662\n",
      "Best val Acc: 0.9662\n"
     ]
    }
   ],
   "source": [
    "def train_model(model, criterion, optimizer, dataloaders, num_epochs=25):\n",
    "    best_model_wts = model.state_dict()\n",
    "    best_acc = 0.0\n",
    "\n",
    "    for epoch in range(num_epochs):\n",
    "        print(f\"Epoch {epoch+1}/{num_epochs}\")\n",
    "        print('-' * 10)\n",
    "\n",
    "        # Each epoch has a training and validation phase\n",
    "        for phase in ['train', 'val']:\n",
    "            if phase == 'train':\n",
    "                model.train()  # Set model to training mode\n",
    "            else:\n",
    "                model.eval()  # Set model to evaluate mode\n",
    "\n",
    "            running_loss = 0.0\n",
    "            running_corrects = 0\n",
    "\n",
    "            # Iterate over data.\n",
    "            for inputs, labels in dataloaders[phase]:\n",
    "                inputs = inputs.to(device)\n",
    "                labels = labels.to(device)\n",
    "\n",
    "                # Zero the parameter gradients\n",
    "                optimizer.zero_grad()\n",
    "\n",
    "                # Forward\n",
    "                with torch.set_grad_enabled(phase == 'train'):\n",
    "                    outputs = model(inputs)\n",
    "                    _, preds = torch.max(outputs, 1)\n",
    "                    loss = criterion(outputs, labels)\n",
    "\n",
    "                    # Backward + optimize only if in training phase\n",
    "                    if phase == 'train':\n",
    "                        loss.backward()\n",
    "                        optimizer.step()\n",
    "\n",
    "                # Statistics\n",
    "                running_loss += loss.item() * inputs.size(0)\n",
    "                running_corrects += torch.sum(preds == labels.data)\n",
    "\n",
    "            epoch_loss = running_loss / len(dataloaders[phase].dataset)\n",
    "            epoch_acc = running_corrects.double() / len(dataloaders[phase].dataset)\n",
    "\n",
    "            print(f'{phase} Loss: {epoch_loss:.4f} Acc: {epoch_acc:.4f}')\n",
    "\n",
    "            # Deep copy the model if we get better accuracy\n",
    "            if phase == 'val' and epoch_acc > best_acc:\n",
    "                best_acc = epoch_acc\n",
    "                best_model_wts = model.state_dict()\n",
    "\n",
    "    print(f'Best val Acc: {best_acc:.4f}')\n",
    "    model.load_state_dict(best_model_wts)\n",
    "    return model\n",
    "\n",
    "# Train the model\n",
    "model = train_model(model, criterion, optimizer, dataloaders, num_epochs=10)\n"
   ]
  },
  {
   "cell_type": "code",
   "execution_count": 58,
   "id": "1d344a00",
   "metadata": {},
   "outputs": [
    {
     "name": "stdout",
     "output_type": "stream",
     "text": [
      "Validation Accuracy: 96.62%\n",
      "Classification Report:\n",
      "                       precision    recall  f1-score   support\n",
      "\n",
      "Bacterial leaf blight       1.00      0.72      0.84        18\n",
      "               Blight       0.98      0.97      0.97        60\n",
      "           Brown spot       0.69      1.00      0.81        11\n",
      "       Gray_Leaf_Spot       1.00      0.91      0.95        23\n",
      "              Healthy       1.00      1.00      1.00        33\n",
      "            Leaf smut       1.00      1.00      1.00        20\n",
      "                Miner       1.00      1.00      1.00        30\n",
      "                Phoma       1.00      1.00      1.00        25\n",
      "                 Rust       0.94      1.00      0.97        46\n",
      "\n",
      "             accuracy                           0.97       266\n",
      "            macro avg       0.96      0.96      0.95       266\n",
      "         weighted avg       0.97      0.97      0.97       266\n",
      "\n"
     ]
    },
    {
     "data": {
      "image/png": "[encoded data removed]",
      "text/plain": [
       "<Figure size 1000x800 with 2 Axes>"
      ]
     },
     "metadata": {},
     "output_type": "display_data"
    }
   ],
   "source": [
    "# Evaluation function to get accuracy and confusion matrix\n",
    "def evaluate_model(model, dataloader):\n",
    "    model.eval()  # Set model to evaluation mode\n",
    "    all_preds = []\n",
    "    all_labels = []\n",
    "\n",
    "    with torch.no_grad():\n",
    "        for inputs, labels in dataloader:\n",
    "            inputs = inputs.to(device)\n",
    "            labels = labels.to(device)\n",
    "\n",
    "            outputs = model(inputs)\n",
    "            _, preds = torch.max(outputs, 1)\n",
    "            all_preds.extend(preds.cpu().numpy())\n",
    "            all_labels.extend(labels.cpu().numpy())\n",
    "\n",
    "    return np.array(all_preds), np.array(all_labels)\n",
    "\n",
    "# Get predictions on the validation set\n",
    "y_pred, y_true = evaluate_model(model, dataloaders['val'])\n",
    "\n",
    "# Calculate accuracy\n",
    "accuracy = accuracy_score(y_true, y_pred)\n",
    "print(f'Validation Accuracy: {accuracy * 100:.2f}%')\n",
    "\n",
    "# Classification Report\n",
    "print(\"Classification Report:\")\n",
    "print(classification_report(y_true, y_pred, target_names=class_names))\n",
    "\n",
    "# Confusion Matrix\n",
    "conf_matrix = confusion_matrix(y_true, y_pred)\n",
    "plt.figure(figsize=(10, 8))\n",
    "sns.heatmap(conf_matrix, annot=True, fmt=\"d\", cmap=\"Blues\", xticklabels=class_names, yticklabels=class_names)\n",
    "plt.xlabel('Predicted')\n",
    "plt.ylabel('Actual')\n",
    "plt.title('Confusion Matrix')\n",
    "plt.show()\n"
   ]
  },
  {
   "cell_type": "code",
   "execution_count": null,
   "id": "8a828295",
   "metadata": {},
   "outputs": [],
   "source": [
    "\n",
    "import torch\n",
    "import torch.nn.functional as F\n",
    "from PIL import Image\n",
    "from torchvision import transforms\n",
    "\n",
    "# Function to predict the class of a given image\n",
    "def predict_image(image_path, model, class_names, device):\n",
    "    # Define the image transformation (similar to the validation transform)\n",
    "    transform = transforms.Compose([\n",
    "        transforms.Resize((224, 224)),\n",
    "        transforms.ToTensor(),\n",
    "        transforms.Normalize([0.485, 0.456, 0.406], [0.229, 0.224, 0.225])\n",
    "    ])\n",
    "    \n",
    "    # Load and preprocess the image\n",
    "    image = Image.open(image_path).convert('RGB')\n",
    "    image = transform(image).unsqueeze(0)  # Add batch dimension\n",
    "    \n",
    "    # Move the image to the same device as the model\n",
    "    image = image.to(device)\n",
    "    \n",
    "    # Set the model to evaluation mode\n",
    "    model.eval()\n",
    "    \n",
    "    # Disable gradient calculation for inference\n",
    "    with torch.no_grad():\n",
    "        # Forward pass through the model\n",
    "        outputs = model(image)\n",
    "        # Apply softmax to get probabilities\n",
    "        probs = F.softmax(outputs, dim=1)\n",
    "        # Get the predicted class\n",
    "        _, preds = torch.max(probs, 1)\n",
    "    \n",
    "    # Get the class name from the predicted class index\n",
    "    predicted_class = class_names[preds.item()]\n",
    "    \n",
    "    return predicted_class, probs[0][preds.item()].item()\n",
    "\n",
    "# Example usage:\n",
    "image_path = 'C:/Users/colloh/Desktop/Data/coffee_leaf_diseases/Train/Phoma/338.jpg'\n",
    "predicted_class, confidence = predict_image(image_path, model, class_names, device)\n",
    "print(f'Predicted class: {predicted_class}, Confidence: {confidence:.4f}')\n"
   ]
  },
  {
   "cell_type": "code",
   "execution_count": 68,
   "id": "c8f7f942",
   "metadata": {},
   "outputs": [
    {
     "name": "stdout",
     "output_type": "stream",
     "text": [
      "Model saved as C:/Users/colloh/Desktop/Data/leaf_data/Leaf_disease_predict_model.joblib\n"
     ]
    }
   ],
   "source": [
    "import joblib\n",
    "import torch\n",
    "\n",
    "# Path to save the model\n",
    "model_path = 'C:/Users/colloh/Desktop/Data/leaf_data/Leaf_disease_predict_model.joblib'\n",
    "\n",
    "# Save the model's state_dict\n",
    "joblib.dump(model.state_dict(), model_path)\n",
    "print(f\"Model saved as {model_path}\")\n"
   ]
  },
  {
   "cell_type": "code",
   "execution_count": null,
   "id": "fcb89ad8",
   "metadata": {},
   "outputs": [],
   "source": []
  }
 ],
 "metadata": {
  "kernelspec": {
   "display_name": "Python 3 (ipykernel)",
   "language": "python",
   "name": "python3"
  },
  "language_info": {
   "codemirror_mode": {
    "name": "ipython",
    "version": 3
   },
   "file_extension": ".py",
   "mimetype": "text/x-python",
   "name": "python",
   "nbconvert_exporter": "python",
   "pygments_lexer": "ipython3",
   "version": "3.11.5"
  }
 },
 "nbformat": 4,
 "nbformat_minor": 5
}
